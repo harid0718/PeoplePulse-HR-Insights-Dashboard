{
 "cells": [
  {
   "cell_type": "code",
   "execution_count": 1,
   "id": "ebdff79f",
   "metadata": {},
   "outputs": [],
   "source": [
    "import pandas as pd\n",
    "import numpy as np"
   ]
  },
  {
   "cell_type": "code",
   "execution_count": 2,
   "id": "7b6f9ad8",
   "metadata": {},
   "outputs": [],
   "source": [
    "df = pd.read_csv('D:/peoplepulse/data/raw/WA_Fn-UseC_-HR-Employee-Attrition.csv')"
   ]
  },
  {
   "cell_type": "markdown",
   "id": "800281db",
   "metadata": {},
   "source": [
    "Clean column names"
   ]
  },
  {
   "cell_type": "code",
   "execution_count": 3,
   "id": "f74d0a97",
   "metadata": {},
   "outputs": [],
   "source": [
    "df.columns = df.columns.str.strip().str.lower().str.replace(' ', '_').str.replace('-', '_')"
   ]
  },
  {
   "cell_type": "markdown",
   "id": "79d1c1da",
   "metadata": {},
   "source": [
    "Convert Attrition to binary"
   ]
  },
  {
   "cell_type": "code",
   "execution_count": 4,
   "id": "21045d98",
   "metadata": {},
   "outputs": [],
   "source": [
    "df['attrition_flag'] = df['attrition'].map({'Yes': 1, 'No': 0})"
   ]
  },
  {
   "cell_type": "code",
   "execution_count": 10,
   "id": "084c7ad4",
   "metadata": {},
   "outputs": [
    {
     "data": {
      "text/plain": [
       "Index(['age', 'attrition', 'businesstravel', 'dailyrate', 'department',\n",
       "       'distancefromhome', 'education', 'educationfield', 'employeecount',\n",
       "       'employeenumber', 'environmentsatisfaction', 'gender', 'hourlyrate',\n",
       "       'jobinvolvement', 'joblevel', 'jobrole', 'jobsatisfaction',\n",
       "       'maritalstatus', 'monthlyincome', 'monthlyrate', 'numcompaniesworked',\n",
       "       'over18', 'overtime', 'percentsalaryhike', 'performancerating',\n",
       "       'relationshipsatisfaction', 'standardhours', 'stockoptionlevel',\n",
       "       'totalworkingyears', 'trainingtimeslastyear', 'worklifebalance',\n",
       "       'yearsatcompany', 'yearsincurrentrole', 'yearssincelastpromotion',\n",
       "       'yearswithcurrmanager', 'attrition_flag', 'tenure_bucket'],\n",
       "      dtype='object')"
      ]
     },
     "execution_count": 10,
     "metadata": {},
     "output_type": "execute_result"
    }
   ],
   "source": [
    "df.columns"
   ]
  },
  {
   "cell_type": "markdown",
   "id": "3f6e2c7a",
   "metadata": {},
   "source": [
    "Create new column 'tenure_bucket' from total_working_years column"
   ]
  },
  {
   "cell_type": "code",
   "execution_count": 18,
   "id": "b3da2ff9",
   "metadata": {},
   "outputs": [],
   "source": [
    "df['total_working_years'] = df['totalworkingyears'].fillna(0)\n"
   ]
  },
  {
   "cell_type": "code",
   "execution_count": 19,
   "id": "08956cd2",
   "metadata": {},
   "outputs": [],
   "source": [
    "df['tenure_bucket'] = pd.cut(df['total_working_years'],\n",
    "                             bins=[0, 2, 5, 10, 20, np.inf],\n",
    "                             labels=['0-2 yrs', '3-5 yrs', '6-10 yrs', '11-20 yrs', '20+ yrs'])"
   ]
  },
  {
   "cell_type": "code",
   "execution_count": 23,
   "id": "9385a6c2",
   "metadata": {},
   "outputs": [],
   "source": [
    "df = df[df['tenure_bucket'].notna()]"
   ]
  },
  {
   "cell_type": "markdown",
   "id": "f1916c2b",
   "metadata": {},
   "source": [
    "Create 'satisfaction_index' column from existing satisfaction columns"
   ]
  },
  {
   "cell_type": "code",
   "execution_count": 11,
   "id": "3b4bb735",
   "metadata": {},
   "outputs": [],
   "source": [
    "satisfaction_cols = ['environmentsatisfaction', 'jobsatisfaction', 'relationshipsatisfaction']\n",
    "df['satisfaction_index'] = df[satisfaction_cols].mean(axis=1)"
   ]
  },
  {
   "cell_type": "markdown",
   "id": "07f8a812",
   "metadata": {},
   "source": [
    "Drop unnecessary columns"
   ]
  },
  {
   "cell_type": "code",
   "execution_count": 12,
   "id": "4aa1aae2",
   "metadata": {},
   "outputs": [],
   "source": [
    "drop_cols = ['employeenumber', 'over18', 'standardhours', 'employeecount']\n",
    "df.drop(columns=[col for col in drop_cols if col in df.columns], inplace=True)"
   ]
  },
  {
   "cell_type": "markdown",
   "id": "dc5112cc",
   "metadata": {},
   "source": [
    "Save cleaned file"
   ]
  },
  {
   "cell_type": "code",
   "execution_count": 21,
   "id": "291682ef",
   "metadata": {},
   "outputs": [],
   "source": [
    "tenure_sort_map = {\n",
    "    '0-2 yrs': 1,\n",
    "    '3-5 yrs': 2,\n",
    "    '6-10 yrs': 3,\n",
    "    '11-20 yrs': 4,\n",
    "    '20+ yrs': 5\n",
    "}\n",
    "\n",
    "df['tenure_bucket_sort'] = df['tenure_bucket'].map(tenure_sort_map)\n"
   ]
  },
  {
   "cell_type": "code",
   "execution_count": 25,
   "id": "4ecb2380",
   "metadata": {},
   "outputs": [],
   "source": [
    "df.to_csv('D:/peoplepulse/data/processed/hr_employee_attrition_clean.csv', index=False)"
   ]
  },
  {
   "cell_type": "code",
   "execution_count": null,
   "id": "03401156",
   "metadata": {},
   "outputs": [],
   "source": []
  }
 ],
 "metadata": {
  "kernelspec": {
   "display_name": "Python 3 (ipykernel)",
   "language": "python",
   "name": "python3"
  },
  "language_info": {
   "codemirror_mode": {
    "name": "ipython",
    "version": 3
   },
   "file_extension": ".py",
   "mimetype": "text/x-python",
   "name": "python",
   "nbconvert_exporter": "python",
   "pygments_lexer": "ipython3",
   "version": "3.10.4"
  }
 },
 "nbformat": 4,
 "nbformat_minor": 5
}
