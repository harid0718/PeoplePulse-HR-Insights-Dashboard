{
 "cells": [
  {
   "cell_type": "code",
   "execution_count": 1,
   "id": "da38524d",
   "metadata": {},
   "outputs": [],
   "source": [
    "import pandas as pd\n",
    "import numpy as np"
   ]
  },
  {
   "cell_type": "code",
   "execution_count": 2,
   "id": "37a3abf1",
   "metadata": {},
   "outputs": [],
   "source": [
    "df = pd.read_csv('D:/peoplepulse/data/raw/WA_Fn-UseC_-HR-Employee-Attrition.csv')"
   ]
  },
  {
   "cell_type": "markdown",
   "id": "859473fb",
   "metadata": {},
   "source": [
    "Clean column names"
   ]
  },
  {
   "cell_type": "code",
   "execution_count": 3,
   "id": "460b48b1",
   "metadata": {},
   "outputs": [],
   "source": [
    "df.columns = df.columns.str.strip().str.lower().str.replace(' ', '_').str.replace('-', '_')"
   ]
  },
  {
   "cell_type": "markdown",
   "id": "eb692d7d",
   "metadata": {},
   "source": [
    "Convert Attrition to binary"
   ]
  },
  {
   "cell_type": "code",
   "execution_count": 4,
   "id": "43e10876",
   "metadata": {},
   "outputs": [],
   "source": [
    "df['attrition_flag'] = df['attrition'].map({'Yes': 1, 'No': 0})"
   ]
  },
  {
   "cell_type": "code",
   "execution_count": 10,
   "id": "4dbb18d2",
   "metadata": {},
   "outputs": [
    {
     "data": {
      "text/plain": [
       "Index(['age', 'attrition', 'businesstravel', 'dailyrate', 'department',\n",
       "       'distancefromhome', 'education', 'educationfield', 'employeecount',\n",
       "       'employeenumber', 'environmentsatisfaction', 'gender', 'hourlyrate',\n",
       "       'jobinvolvement', 'joblevel', 'jobrole', 'jobsatisfaction',\n",
       "       'maritalstatus', 'monthlyincome', 'monthlyrate', 'numcompaniesworked',\n",
       "       'over18', 'overtime', 'percentsalaryhike', 'performancerating',\n",
       "       'relationshipsatisfaction', 'standardhours', 'stockoptionlevel',\n",
       "       'totalworkingyears', 'trainingtimeslastyear', 'worklifebalance',\n",
       "       'yearsatcompany', 'yearsincurrentrole', 'yearssincelastpromotion',\n",
       "       'yearswithcurrmanager', 'attrition_flag', 'tenure_bucket'],\n",
       "      dtype='object')"
      ]
     },
     "execution_count": 10,
     "metadata": {},
     "output_type": "execute_result"
    }
   ],
   "source": [
    "df.columns"
   ]
  },
  {
   "cell_type": "markdown",
   "id": "8eecab02",
   "metadata": {},
   "source": [
    "Create new column 'tenure_bucket' from total_working_years column"
   ]
  },
  {
   "cell_type": "code",
   "execution_count": 18,
   "id": "f2f628a9",
   "metadata": {},
   "outputs": [],
   "source": [
    "df['total_working_years'] = df['totalworkingyears'].fillna(0)\n"
   ]
  },
  {
   "cell_type": "code",
   "execution_count": 19,
   "id": "7c88c393",
   "metadata": {},
   "outputs": [],
   "source": [
    "df['tenure_bucket'] = pd.cut(df['total_working_years'],\n",
    "                             bins=[0, 2, 5, 10, 20, np.inf],\n",
    "                             labels=['0-2 yrs', '3-5 yrs', '6-10 yrs', '11-20 yrs', '20+ yrs'])"
   ]
  },
  {
   "cell_type": "code",
   "execution_count": 23,
   "id": "430ddfd5",
   "metadata": {},
   "outputs": [],
   "source": [
    "df = df[df['tenure_bucket'].notna()]"
   ]
  },
  {
   "cell_type": "markdown",
   "id": "ea5bf515",
   "metadata": {},
   "source": [
    "Create 'satisfaction_index' column from existing satisfaction columns"
   ]
  },
  {
   "cell_type": "code",
   "execution_count": 11,
   "id": "f7258395",
   "metadata": {},
   "outputs": [],
   "source": [
    "satisfaction_cols = ['environmentsatisfaction', 'jobsatisfaction', 'relationshipsatisfaction']\n",
    "df['satisfaction_index'] = df[satisfaction_cols].mean(axis=1)"
   ]
  },
  {
   "cell_type": "markdown",
   "id": "0490ab71",
   "metadata": {},
   "source": [
    "Drop unnecessary columns"
   ]
  },
  {
   "cell_type": "code",
   "execution_count": 12,
   "id": "993bfce6",
   "metadata": {},
   "outputs": [],
   "source": [
    "drop_cols = ['employeenumber', 'over18', 'standardhours', 'employeecount']\n",
    "df.drop(columns=[col for col in drop_cols if col in df.columns], inplace=True)"
   ]
  },
  {
   "cell_type": "markdown",
   "id": "065818c1",
   "metadata": {},
   "source": [
    "Save cleaned file"
   ]
  },
  {
   "cell_type": "code",
   "execution_count": 21,
   "id": "05bb2c06",
   "metadata": {},
   "outputs": [],
   "source": [
    "tenure_sort_map = {\n",
    "    '0-2 yrs': 1,\n",
    "    '3-5 yrs': 2,\n",
    "    '6-10 yrs': 3,\n",
    "    '11-20 yrs': 4,\n",
    "    '20+ yrs': 5\n",
    "}\n",
    "\n",
    "df['tenure_bucket_sort'] = df['tenure_bucket'].map(tenure_sort_map)\n"
   ]
  },
  {
   "cell_type": "code",
   "execution_count": 25,
   "id": "a19a041a",
   "metadata": {},
   "outputs": [],
   "source": [
    "df.to_csv('D:/peoplepulse/data/processed/hr_employee_attrition_clean.csv', index=False)"
   ]
  },
  {
   "cell_type": "code",
   "execution_count": null,
   "id": "9849ee94",
   "metadata": {},
   "outputs": [],
   "source": []
  }
 ],
 "metadata": {
  "kernelspec": {
   "display_name": "Python 3 (ipykernel)",
   "language": "python",
   "name": "python3"
  },
  "language_info": {
   "codemirror_mode": {
    "name": "ipython",
    "version": 3
   },
   "file_extension": ".py",
   "mimetype": "text/x-python",
   "name": "python",
   "nbconvert_exporter": "python",
   "pygments_lexer": "ipython3",
   "version": "3.10.4"
  }
 },
 "nbformat": 4,
 "nbformat_minor": 5
}
