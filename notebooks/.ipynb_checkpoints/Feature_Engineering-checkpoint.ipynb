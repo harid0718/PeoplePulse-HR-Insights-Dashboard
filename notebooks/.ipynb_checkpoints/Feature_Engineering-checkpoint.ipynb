{
 "cells": [
  {
   "cell_type": "code",
   "execution_count": 1,
   "id": "04fb6d15",
   "metadata": {},
   "outputs": [],
   "source": [
    "import pandas as pd\n",
    "import numpy as np"
   ]
  },
  {
   "cell_type": "code",
   "execution_count": 2,
   "id": "b80a5be8",
   "metadata": {},
   "outputs": [],
   "source": [
    "df = pd.read_csv('D:/peoplepulse/data/raw/WA_Fn-UseC_-HR-Employee-Attrition.csv')"
   ]
  },
  {
   "cell_type": "markdown",
   "id": "a3e9411e",
   "metadata": {},
   "source": [
    "Clean column names"
   ]
  },
  {
   "cell_type": "code",
   "execution_count": 3,
   "id": "acd75834",
   "metadata": {},
   "outputs": [],
   "source": [
    "df.columns = df.columns.str.strip().str.lower().str.replace(' ', '_').str.replace('-', '_')"
   ]
  },
  {
   "cell_type": "markdown",
   "id": "882deb20",
   "metadata": {},
   "source": [
    "Convert Attrition to binary"
   ]
  },
  {
   "cell_type": "code",
   "execution_count": 4,
   "id": "8244bb6d",
   "metadata": {},
   "outputs": [],
   "source": [
    "df['attrition_flag'] = df['attrition'].map({'Yes': 1, 'No': 0})"
   ]
  },
  {
   "cell_type": "code",
   "execution_count": 10,
   "id": "dc5f5fab",
   "metadata": {},
   "outputs": [
    {
     "data": {
      "text/plain": [
       "Index(['age', 'attrition', 'businesstravel', 'dailyrate', 'department',\n",
       "       'distancefromhome', 'education', 'educationfield', 'employeecount',\n",
       "       'employeenumber', 'environmentsatisfaction', 'gender', 'hourlyrate',\n",
       "       'jobinvolvement', 'joblevel', 'jobrole', 'jobsatisfaction',\n",
       "       'maritalstatus', 'monthlyincome', 'monthlyrate', 'numcompaniesworked',\n",
       "       'over18', 'overtime', 'percentsalaryhike', 'performancerating',\n",
       "       'relationshipsatisfaction', 'standardhours', 'stockoptionlevel',\n",
       "       'totalworkingyears', 'trainingtimeslastyear', 'worklifebalance',\n",
       "       'yearsatcompany', 'yearsincurrentrole', 'yearssincelastpromotion',\n",
       "       'yearswithcurrmanager', 'attrition_flag', 'tenure_bucket'],\n",
       "      dtype='object')"
      ]
     },
     "execution_count": 10,
     "metadata": {},
     "output_type": "execute_result"
    }
   ],
   "source": [
    "df.columns"
   ]
  },
  {
   "cell_type": "markdown",
   "id": "3412075c",
   "metadata": {},
   "source": [
    "Create new column 'tenure_bucket' from total_working_years column"
   ]
  },
  {
   "cell_type": "code",
   "execution_count": 9,
   "id": "259f8924",
   "metadata": {},
   "outputs": [],
   "source": [
    "df['tenure_bucket'] = pd.cut(df['totalworkingyears'],\n",
    "                             bins=[0, 2, 5, 10, 20, np.inf],\n",
    "                             labels=['0-2 yrs', '3-5 yrs', '6-10 yrs', '11-20 yrs', '20+ yrs'])"
   ]
  },
  {
   "cell_type": "markdown",
   "id": "08c4dd85",
   "metadata": {},
   "source": [
    "Create 'satisfaction_index' column from existing satisfaction columns"
   ]
  },
  {
   "cell_type": "code",
   "execution_count": 11,
   "id": "6db5bbd9",
   "metadata": {},
   "outputs": [],
   "source": [
    "satisfaction_cols = ['environmentsatisfaction', 'jobsatisfaction', 'relationshipsatisfaction']\n",
    "df['satisfaction_index'] = df[satisfaction_cols].mean(axis=1)"
   ]
  },
  {
   "cell_type": "markdown",
   "id": "a9573fb4",
   "metadata": {},
   "source": [
    "Drop unnecessary columns"
   ]
  },
  {
   "cell_type": "code",
   "execution_count": 12,
   "id": "222051fd",
   "metadata": {},
   "outputs": [],
   "source": [
    "drop_cols = ['employeenumber', 'over18', 'standardhours', 'employeecount']\n",
    "df.drop(columns=[col for col in drop_cols if col in df.columns], inplace=True)"
   ]
  },
  {
   "cell_type": "markdown",
   "id": "d6b3ad41",
   "metadata": {},
   "source": [
    "Save cleaned file"
   ]
  },
  {
   "cell_type": "code",
   "execution_count": 16,
   "id": "547f4c50",
   "metadata": {},
   "outputs": [],
   "source": [
    "df.to_csv('D:/peoplepulse/data/processed/hr_employee_attrition_clean.csv', index=False)"
   ]
  },
  {
   "cell_type": "code",
   "execution_count": null,
   "id": "42ef272a",
   "metadata": {},
   "outputs": [],
   "source": []
  }
 ],
 "metadata": {
  "kernelspec": {
   "display_name": "Python 3 (ipykernel)",
   "language": "python",
   "name": "python3"
  },
  "language_info": {
   "codemirror_mode": {
    "name": "ipython",
    "version": 3
   },
   "file_extension": ".py",
   "mimetype": "text/x-python",
   "name": "python",
   "nbconvert_exporter": "python",
   "pygments_lexer": "ipython3",
   "version": "3.10.4"
  }
 },
 "nbformat": 4,
 "nbformat_minor": 5
}
